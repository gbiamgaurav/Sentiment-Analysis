{
  "nbformat": 4,
  "nbformat_minor": 0,
  "metadata": {
    "colab": {
      "name": "Real-Time Sentiment Analysis.ipynb",
      "provenance": [],
      "authorship_tag": "ABX9TyPZSUUcFTr9QmMNXyNBfY2W",
      "include_colab_link": true
    },
    "kernelspec": {
      "name": "python3",
      "display_name": "Python 3"
    },
    "language_info": {
      "name": "python"
    }
  },
  "cells": [
    {
      "cell_type": "markdown",
      "metadata": {
        "id": "view-in-github",
        "colab_type": "text"
      },
      "source": [
        "<a href=\"https://colab.research.google.com/github/gbiamgaurav/Sentiment-Analysis/blob/main/Real_Time_Sentiment_Analysis.ipynb\" target=\"_parent\"><img src=\"https://colab.research.google.com/assets/colab-badge.svg\" alt=\"Open In Colab\"/></a>"
      ]
    },
    {
      "cell_type": "code",
      "execution_count": null,
      "metadata": {
        "colab": {
          "base_uri": "https://localhost:8080/"
        },
        "id": "Mb-5sXqPuXOc",
        "outputId": "21c9506a-826b-431c-9ede-3e1cbc5cddb9"
      },
      "outputs": [
        {
          "output_type": "stream",
          "name": "stderr",
          "text": [
            "[nltk_data] Downloading package vader_lexicon to /root/nltk_data...\n"
          ]
        },
        {
          "output_type": "execute_result",
          "data": {
            "text/plain": [
              "True"
            ]
          },
          "metadata": {},
          "execution_count": 1
        }
      ],
      "source": [
        "### Import the NLTK library \n",
        "\n",
        "from nltk.sentiment.vader import SentimentIntensityAnalyzer\n",
        "import nltk\n",
        "nltk.download('vader_lexicon')"
      ]
    },
    {
      "cell_type": "code",
      "source": [
        "### let's take the user input\n",
        "\n",
        "user_input = input(\"Please rate our services (please enter in a word format):  \")\n",
        "\n",
        "\n",
        "### initialize the SentimentIntensityAnalyzer\n",
        "sid = SentimentIntensityAnalyzer()\n",
        "\n",
        "score = sid.polarity_scores(user_input)\n",
        "\n",
        "print(score)"
      ],
      "metadata": {
        "colab": {
          "base_uri": "https://localhost:8080/"
        },
        "id": "jLGbdzz_uwIH",
        "outputId": "54116ffb-0ee8-4c10-8319-30bfdcbb62a8"
      },
      "execution_count": null,
      "outputs": [
        {
          "output_type": "stream",
          "name": "stdout",
          "text": [
            "Please rate our services (please enter in a word format):  pathetic\n",
            "{'neg': 1.0, 'neu': 0.0, 'pos': 0.0, 'compound': -0.5719}\n"
          ]
        }
      ]
    },
    {
      "cell_type": "code",
      "source": [
        "### apply an if-else statement \n",
        "\n",
        "if score['neg'] < 4:\n",
        "  print(\"Negative\")\n",
        "\n",
        "elif score[\"neu\"] <= 8:\n",
        "  print(\"Neutral\")\n",
        "\n",
        "else:\n",
        "  print(\"Positive\")  "
      ],
      "metadata": {
        "colab": {
          "base_uri": "https://localhost:8080/"
        },
        "id": "ymWqNHK1vB_G",
        "outputId": "599d8fbf-4e9c-470d-8f22-9111891a69f3"
      },
      "execution_count": null,
      "outputs": [
        {
          "output_type": "stream",
          "name": "stdout",
          "text": [
            "Negative\n"
          ]
        }
      ]
    },
    {
      "cell_type": "code",
      "source": [
        "user_input = input(\"Please rate our services in a word:  \")\n",
        "sid = SentimentIntensityAnalyzer()\n",
        "\n",
        "score = sid.polarity_scores(user_input)\n",
        "\n",
        "if score[\"neg\"] != 0:\n",
        "  print(\"Negative\")\n",
        "\n",
        "else:\n",
        "  print(\"Positive\")  "
      ],
      "metadata": {
        "colab": {
          "base_uri": "https://localhost:8080/"
        },
        "id": "eftux3L6wIOG",
        "outputId": "4bb7fb02-c4ea-470c-e0c8-c61421c34fe9"
      },
      "execution_count": null,
      "outputs": [
        {
          "output_type": "stream",
          "name": "stdout",
          "text": [
            "Please rate our services in a word:  outstanding\n",
            "Positive\n"
          ]
        }
      ]
    },
    {
      "cell_type": "code",
      "source": [
        "## install streamlit\n",
        "\n",
        "#! pip install streamlit"
      ],
      "metadata": {
        "id": "WrapmPAI1uXf"
      },
      "execution_count": 5,
      "outputs": []
    },
    {
      "cell_type": "code",
      "source": [
        "import streamlit as st\n",
        "from nltk.sentiment.vader import SentimentIntensityAnalyzer\n",
        "import nltk\n",
        "\n",
        "st.write(\"# Sentiment Analyzer\")\n",
        "\n",
        "user_input = st.text_input(\"Please rate our services in a word >>: \")\n",
        "nltk.download('vader_lexicon')\n",
        "\n",
        "sid = SentimentIntensityAnalyzer()\n",
        "score = sid.polarity_scores(user_input)\n",
        "\n",
        "if score == 0:\n",
        "    st.write(\" \")\n",
        "elif score['neg'] != 0:\n",
        "    st.write(\"Negative\")\n",
        "elif score['neu'] >= 8:\n",
        "    st.write(\"Neutral\")\n",
        "else:\n",
        "    st.write(\"Positive\")"
      ],
      "metadata": {
        "id": "JZvrkx4R1gK-",
        "outputId": "9a34822f-edd2-49be-a387-17e6e1dfe5d9",
        "colab": {
          "base_uri": "https://localhost:8080/"
        }
      },
      "execution_count": 6,
      "outputs": [
        {
          "output_type": "stream",
          "name": "stderr",
          "text": [
            "INFO:numexpr.utils:NumExpr defaulting to 2 threads.\n",
            "2022-08-16 08:50:04.741 INFO    numexpr.utils: NumExpr defaulting to 2 threads.\n",
            "WARNING:root:\n",
            "  \u001b[33m\u001b[1mWarning:\u001b[0m to view this Streamlit app on a browser, run it with the following\n",
            "  command:\n",
            "\n",
            "    streamlit run /usr/local/lib/python3.7/dist-packages/ipykernel_launcher.py [ARGUMENTS]\n",
            "2022-08-16 08:50:07.265 \n",
            "  \u001b[33m\u001b[1mWarning:\u001b[0m to view this Streamlit app on a browser, run it with the following\n",
            "  command:\n",
            "\n",
            "    streamlit run /usr/local/lib/python3.7/dist-packages/ipykernel_launcher.py [ARGUMENTS]\n",
            "[nltk_data] Downloading package vader_lexicon to /root/nltk_data...\n"
          ]
        }
      ]
    },
    {
      "cell_type": "code",
      "source": [
        ""
      ],
      "metadata": {
        "id": "NkDPimdd1lqO"
      },
      "execution_count": null,
      "outputs": []
    }
  ]
}